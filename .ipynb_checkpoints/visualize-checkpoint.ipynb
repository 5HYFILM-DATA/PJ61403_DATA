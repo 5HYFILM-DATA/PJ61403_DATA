{
 "cells": [
  {
   "cell_type": "markdown",
   "metadata": {},
   "source": [
    "# Import Libraries"
   ]
  },
  {
   "cell_type": "code",
   "execution_count": 1,
   "metadata": {},
   "outputs": [],
   "source": [
    "import matplotlib.pyplot as plt\n",
    "import matplotlib.image as mpimg\n",
    "import os\n",
    "import numpy as np"
   ]
  },
  {
   "cell_type": "markdown",
   "metadata": {},
   "source": [
    "# Arm"
   ]
  },
  {
   "cell_type": "code",
   "execution_count": 2,
   "metadata": {},
   "outputs": [
    {
     "name": "stdout",
     "output_type": "stream",
     "text": [
      "\u001b[34mAtopicDermatitis\u001b[m\u001b[m  \u001b[34mPsoriasisVulgaris\u001b[m\u001b[m \u001b[34mVitiligo\u001b[m\u001b[m\n"
     ]
    }
   ],
   "source": [
    "!ls Organ/arm"
   ]
  },
  {
   "cell_type": "code",
   "execution_count": 11,
   "metadata": {},
   "outputs": [],
   "source": [
    "ad_arm_dir = 'Organ/arm/AtopicDermatitis'\n",
    "pv_arm_dir = 'Organ/arm/PsoriasisVulgaris'\n",
    "vt_arm_dir = 'Organ/arm/Vitiligo'"
   ]
  },
  {
   "cell_type": "code",
   "execution_count": 14,
   "metadata": {},
   "outputs": [],
   "source": [
    "num_ad_arm = len(os.listdir(ad_arm_dir))\n",
    "num_pv_arm = len(os.listdir(pv_arm_dir))\n",
    "num_vt_arm = len(os.listdir(vt_arm_dir))\n",
    "\n",
    "num_arm_other = num_pv_arm + num_vt_arm"
   ]
  },
  {
   "cell_type": "code",
   "execution_count": 41,
   "metadata": {},
   "outputs": [],
   "source": [
    "classes_m1 = ['AD', 'Other']\n",
    "classes_m2 = ['AD', 'PV', 'VT']\n",
    "\n",
    "num_per_classes_m1 = [num_ad_arm, num_arm_other]\n",
    "num_per_classes_m2 = [num_ad_arm, num_pv_arm, num_vt_arm]\n",
    "\n",
    "num_classes_m1 = np.arange(len(classes_m1))\n",
    "num_classes_m2 = np.arange(len(classes_m2))"
   ]
  },
  {
   "cell_type": "code",
   "execution_count": 54,
   "metadata": {},
   "outputs": [
    {
     "name": "stdout",
     "output_type": "stream",
     "text": [
      "AD Other\n",
      "27 16\n",
      "\n",
      "AD PV VT\n",
      "27 10 6\n"
     ]
    }
   ],
   "source": [
    "for a, b in (classes_m1, num_per_classes_m1):\n",
    "    print(a, b)\n",
    "    \n",
    "print('')\n",
    "    \n",
    "for a, b, c in (classes_m2, num_per_classes_m2):\n",
    "    print(a, b, c)"
   ]
  },
  {
   "cell_type": "code",
   "execution_count": 24,
   "metadata": {},
   "outputs": [
    {
     "data": {
      "image/png": "[encoded data removed]",
      "text/plain": [
       "<Figure size 864x288 with 1 Axes>"
      ]
     },
     "metadata": {
      "needs_background": "light"
     },
     "output_type": "display_data"
    },
    {
     "name": "stdout",
     "output_type": "stream",
     "text": [
      "\n"
     ]
    },
    {
     "data": {
      "image/png": "[encoded data removed]",
      "text/plain": [
       "<Figure size 864x288 with 1 Axes>"
      ]
     },
     "metadata": {
      "needs_background": "light"
     },
     "output_type": "display_data"
    }
   ],
   "source": [
    "plt.figure(figsize=(12, 4))\n",
    "plt.bar(num_classes_m1, num_per_classes_m1)\n",
    "plt.xticks(num_classes_m1, classes_m1, fontsize=15)\n",
    "plt.xlabel('Classes')\n",
    "plt.ylabel('Number of Picture')\n",
    "plt.title('AD VS Other')\n",
    "plt.show()\n",
    "\n",
    "print('')\n",
    "\n",
    "plt.figure(figsize=(12, 4))\n",
    "plt.bar(num_classes_m2, num_per_classes_m2)\n",
    "plt.xticks(num_classes_m2, classes_m2, fontsize=15)\n",
    "plt.xlabel('Classes')\n",
    "plt.ylabel('Number of Picture')\n",
    "plt.title('AD VS Subclasses')\n",
    "plt.show()"
   ]
  },
  {
   "cell_type": "markdown",
   "metadata": {},
   "source": [
    "# Bodyskin"
   ]
  },
  {
   "cell_type": "code",
   "execution_count": 6,
   "metadata": {},
   "outputs": [
    {
     "name": "stdout",
     "output_type": "stream",
     "text": [
      "\u001b[34mAtopicDermatitis\u001b[m\u001b[m      \u001b[34mSeborrhoeicDermatitis\u001b[m\u001b[m \u001b[34mVitiligo\u001b[m\u001b[m\n",
      "\u001b[34mPsoriasisVulgaris\u001b[m\u001b[m     \u001b[34mSeborrhoeicKeratosis\u001b[m\u001b[m\n"
     ]
    }
   ],
   "source": [
    "!ls Organ/bodyskin"
   ]
  },
  {
   "cell_type": "code",
   "execution_count": 7,
   "metadata": {},
   "outputs": [],
   "source": [
    "ad_bodyskin_path = 'Organ/bodyskin/AtopicDermatitis'\n",
    "pv_bodyskin_path = 'Organ/bodyskin/PsoriasisVulgaris'\n",
    "sd_bodyskin_path = SeborrhoeicDermatitis\n",
    "vt_arm_path = 'Organ/arm/Vitiligo'"
   ]
  },
  {
   "cell_type": "code",
   "execution_count": 8,
   "metadata": {},
   "outputs": [],
   "source": [
    "num_ad_arm = len(os.listdir(ad_arm_path))\n",
    "num_pv_arm = len(os.listdir(pv_arm_path))\n",
    "num_vt_arm = len(os.listdir(vt_arm_path))\n",
    "\n",
    "num_arm_other = num_pv_arm + num_vt_arm"
   ]
  },
  {
   "cell_type": "code",
   "execution_count": 9,
   "metadata": {},
   "outputs": [
    {
     "ename": "NameError",
     "evalue": "name 'classes' is not defined",
     "output_type": "error",
     "traceback": [
      "\u001b[0;31m---------------------------------------------------------------------------\u001b[0m",
      "\u001b[0;31mNameError\u001b[0m                                 Traceback (most recent call last)",
      "\u001b[0;32m<ipython-input-9-70b488a173ef>\u001b[0m in \u001b[0;36m<module>\u001b[0;34m\u001b[0m\n\u001b[1;32m     10\u001b[0m \u001b[0mplt\u001b[0m\u001b[0;34m.\u001b[0m\u001b[0mfigure\u001b[0m\u001b[0;34m(\u001b[0m\u001b[0mfigsize\u001b[0m\u001b[0;34m=\u001b[0m\u001b[0;34m(\u001b[0m\u001b[0;36m12\u001b[0m\u001b[0;34m,\u001b[0m \u001b[0;36m4\u001b[0m\u001b[0;34m)\u001b[0m\u001b[0;34m)\u001b[0m\u001b[0;34m\u001b[0m\u001b[0;34m\u001b[0m\u001b[0m\n\u001b[1;32m     11\u001b[0m \u001b[0mplt\u001b[0m\u001b[0;34m.\u001b[0m\u001b[0mbar\u001b[0m\u001b[0;34m(\u001b[0m\u001b[0mnum_classes_m1\u001b[0m\u001b[0;34m,\u001b[0m \u001b[0mnum_per_classes_m1\u001b[0m\u001b[0;34m)\u001b[0m\u001b[0;34m\u001b[0m\u001b[0;34m\u001b[0m\u001b[0m\n\u001b[0;32m---> 12\u001b[0;31m \u001b[0mplt\u001b[0m\u001b[0;34m.\u001b[0m\u001b[0mxticks\u001b[0m\u001b[0;34m(\u001b[0m\u001b[0mnum_classes_m1\u001b[0m\u001b[0;34m,\u001b[0m \u001b[0mclasses\u001b[0m\u001b[0;34m,\u001b[0m \u001b[0mfontsize\u001b[0m\u001b[0;34m=\u001b[0m\u001b[0;36m15\u001b[0m\u001b[0;34m)\u001b[0m\u001b[0;34m\u001b[0m\u001b[0;34m\u001b[0m\u001b[0m\n\u001b[0m\u001b[1;32m     13\u001b[0m \u001b[0mplt\u001b[0m\u001b[0;34m.\u001b[0m\u001b[0mxlabel\u001b[0m\u001b[0;34m(\u001b[0m\u001b[0;34m'Classes'\u001b[0m\u001b[0;34m)\u001b[0m\u001b[0;34m\u001b[0m\u001b[0;34m\u001b[0m\u001b[0m\n\u001b[1;32m     14\u001b[0m \u001b[0mplt\u001b[0m\u001b[0;34m.\u001b[0m\u001b[0mylabel\u001b[0m\u001b[0;34m(\u001b[0m\u001b[0;34m'Number of Picture'\u001b[0m\u001b[0;34m)\u001b[0m\u001b[0;34m\u001b[0m\u001b[0;34m\u001b[0m\u001b[0m\n",
      "\u001b[0;31mNameError\u001b[0m: name 'classes' is not defined"
     ]
    },
    {
     "data": {
      "image/png": "[encoded data removed]",
      "text/plain": [
       "<Figure size 864x288 with 1 Axes>"
      ]
     },
     "metadata": {
      "needs_background": "light"
     },
     "output_type": "display_data"
    }
   ],
   "source": [
    "classes_m1 = ['AD', 'Other']\n",
    "classes_m2 = ['AD', 'PV', 'VT']\n",
    "\n",
    "num_per_classes_m1 = [num_ad_arm, num_arm_other]\n",
    "num_per_classes_m2 = [num_ad_arm, num_pv_arm, num_vt_arm]\n",
    "\n",
    "num_classes_m1 = np.arange(len(classes_m1))\n",
    "num_classes_m2 = np.arange(len(classes_m2))\n",
    "\n",
    "plt.figure(figsize=(12, 4))\n",
    "plt.bar(num_classes_m1, num_per_classes_m1)\n",
    "plt.xticks(num_classes_m1, classes_m1, fontsize=15)\n",
    "plt.xlabel('Classes')\n",
    "plt.ylabel('Number of Picture')\n",
    "plt.title('AD VS Other')\n",
    "plt.show()\n",
    "\n",
    "print('')\n",
    "\n",
    "plt.figure(figsize=(12, 4))\n",
    "plt.bar(num_classes_m2, num_per_classes_m2)\n",
    "plt.xticks(num_classes_m2, classes_m2, fontsize=15)\n",
    "plt.xlabel('Classes')\n",
    "plt.ylabel('Number of Picture')\n",
    "plt.title('AD VS Subclasses')\n",
    "plt.show()"
   ]
  },
  {
   "cell_type": "markdown",
   "metadata": {},
   "source": [
    "# Bodyskin"
   ]
  },
  {
   "cell_type": "code",
   "execution_count": null,
   "metadata": {},
   "outputs": [],
   "source": []
  }
 ],
 "metadata": {
  "kernelspec": {
   "display_name": "Python 3",
   "language": "python",
   "name": "python3"
  },
  "language_info": {
   "codemirror_mode": {
    "name": "ipython",
    "version": 3
   },
   "file_extension": ".py",
   "mimetype": "text/x-python",
   "name": "python",
   "nbconvert_exporter": "python",
   "pygments_lexer": "ipython3",
   "version": "3.7.4"
  }
 },
 "nbformat": 4,
 "nbformat_minor": 4
}
