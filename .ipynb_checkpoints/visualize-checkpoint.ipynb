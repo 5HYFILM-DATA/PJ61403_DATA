{
 "cells": [
  {
   "cell_type": "code",
   "execution_count": 13,
   "metadata": {},
   "outputs": [],
   "source": [
    "import matplotlib.pyplot as plt\n",
    "import matplotlib.image as mpimg\n",
    "import os\n",
    "import numpy as np"
   ]
  },
  {
   "cell_type": "markdown",
   "metadata": {},
   "source": [
    "# Arm"
   ]
  },
  {
   "cell_type": "code",
   "execution_count": 68,
   "metadata": {},
   "outputs": [],
   "source": [
    "ad_arm_path = 'Organ/arm/AtopicDermatitis'\n",
    "pv_arm_path = 'Organ/arm/PsoriasisVulgaris'\n",
    "vt_arm_path = 'Organ/arm/Vitiligo'"
   ]
  },
  {
   "cell_type": "code",
   "execution_count": 71,
   "metadata": {},
   "outputs": [],
   "source": [
    "num_ad_arm = len(os.listdir(ad_arm_path))\n",
    "num_pv_arm = len(os.listdir(pv_arm_path))\n",
    "num_vt_arm = len(os.listdir(vt_arm_path))\n",
    "\n",
    "num_arm_other = num_pv_arm + num_vt_arm"
   ]
  },
  {
   "cell_type": "code",
   "execution_count": 84,
   "metadata": {},
   "outputs": [
    {
     "ename": "SyntaxError",
     "evalue": "invalid syntax (<ipython-input-84-4375252bb76c>, line 8)",
     "output_type": "error",
     "traceback": [
      "\u001b[0;36m  File \u001b[0;32m\"<ipython-input-84-4375252bb76c>\"\u001b[0;36m, line \u001b[0;32m8\u001b[0m\n\u001b[0;31m    num_classes_m2 = np.arange(len(classes_m2)\u001b[0m\n\u001b[0m                 ^\u001b[0m\n\u001b[0;31mSyntaxError\u001b[0m\u001b[0;31m:\u001b[0m invalid syntax\n"
     ]
    }
   ],
   "source": [
    "classes_m1 = ['AD', 'Other']\n",
    "classes_m2 = ['AD', 'PV', 'VT']\n",
    "\n",
    "num_per_classes_m1 = [num_ad_arm, num_arm_other]\n",
    "num_per_classes_m2 = [num_ad_arm, num_pv_arm, num_vt_arm]\n",
    "\n",
    "num_classes_m1 = np.arange(len(classes_m1)\n",
    "num_classes_m2 = np.arange(len(classes_m2)\n",
    "\n",
    "\"\"\"AD VS \"\"\"\n",
    "plt.figure(figsize=(12, 4))\n",
    "plt.bar(num_classes_1, num_per_classes_m1)\n",
    "plt.xticks(num_classes_1, classes, fontsize=15)\n",
    "plt.xlabel('Classes')\n",
    "plt.ylabel('Number of Picture')\n",
    "plt.title('AD VS ')\n",
    "plt.show()\n",
    "\n",
    "\"\"\"AD VS Other\"\"\"\n",
    "plt.figure(figsize=(12, 4))\n",
    "plt.bar(num_classes_2, num_per_classes_m2)\n",
    "plt.xticks(num_classes_2, classes, fontsize=15)\n",
    "plt.xlabel('Classes')\n",
    "plt.ylabel('Number of Picture')\n",
    "plt.title('kxxy')\n",
    "plt.show()"
   ]
  },
  {
   "cell_type": "code",
   "execution_count": null,
   "metadata": {},
   "outputs": [],
   "source": []
  }
 ],
 "metadata": {
  "kernelspec": {
   "display_name": "Python 3",
   "language": "python",
   "name": "python3"
  },
  "language_info": {
   "codemirror_mode": {
    "name": "ipython",
    "version": 3
   },
   "file_extension": ".py",
   "mimetype": "text/x-python",
   "name": "python",
   "nbconvert_exporter": "python",
   "pygments_lexer": "ipython3",
   "version": "3.7.4"
  }
 },
 "nbformat": 4,
 "nbformat_minor": 4
}
