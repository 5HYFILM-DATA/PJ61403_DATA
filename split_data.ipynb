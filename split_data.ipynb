{
 "cells": [
  {
   "cell_type": "code",
   "execution_count": 2,
   "metadata": {},
   "outputs": [],
   "source": [
    "import split_folders"
   ]
  },
  {
   "cell_type": "code",
   "execution_count": 9,
   "metadata": {},
   "outputs": [
    {
     "name": "stderr",
     "output_type": "stream",
     "text": [
      "\n",
      "Copying files: 0 files [00:00, ? files/s]\u001b[A\n",
      "Copying files: 55 files [00:00, 541.47 files/s]\u001b[A\n",
      "Copying files: 99 files [00:00, 500.97 files/s]\u001b[A\n",
      "Copying files: 142 files [00:00, 475.60 files/s]\u001b[A\n",
      "Copying files: 238 files [00:00, 474.68 files/s]\u001b[A\n"
     ]
    }
   ],
   "source": [
    "split_folders.ratio('/Users/waranthornchansawang/Desktop/ORIGINAL_DATA/All', \n",
    "                    output='/Users/waranthornchansawang/Desktop/ORIGINAL_DATA/Split/All', \n",
    "                    seed=25, \n",
    "                    ratio=(.8, .1, .1)) #train=0.8, val=0.1, test=0.1"
   ]
  },
  {
   "cell_type": "code",
   "execution_count": 5,
   "metadata": {},
   "outputs": [
    {
     "name": "stdout",
     "output_type": "stream",
     "text": [
      "1072445_Atopic-derm-Mar-Alamy-17.jpg\n",
      "642x361_GALLERY_1-What_Are_the_Different_Types_of_Eczema.jpg\n",
      "642x361_GALLERY_7-What_Are_the_Different_Types_of_Eczema.jpg\n",
      "\u001b[31mAD05.jpg\u001b[m\u001b[m*\n",
      "Atopic Dermatitis in the elbows crease.jpg\n",
      "Dermatitis-rash.jpg\n",
      "atopic-dermatitis-ad-known-eczema-260nw-697227862.jpg\n",
      "atopic-dermatitis-oral-image.jpg\n",
      "download copy.jpg\n",
      "dq029928VB.jpg\n",
      "dq040021HB-768x505.jpg\n",
      "dq040028VB.jpg\n",
      "dq040035VB.jpg\n",
      "dq040036VB.jpg\n",
      "dq040072HB.jpg\n",
      "dq040074VB.jpg\n",
      "dq042727HB-768x505.jpg\n",
      "dq042766VB.jpg\n",
      "dq042768HB-768x505.jpg\n",
      "dq042805HB-768x505.jpg\n",
      "dq042807HB-768x505.jpg\n",
      "dq042851HB-768x505.jpg\n",
      "eczema-remedy.jpg\n",
      "img0036.jpg\n",
      "img0049.jpg\n",
      "princ_rm_photo_of_eczema_on_arm.jpg\n"
     ]
    }
   ],
   "source": [
    "ls /Users/waranthornchansawang/Desktop/RASH_INSPECTORx/dataset/arm"
   ]
  },
  {
   "cell_type": "code",
   "execution_count": 6,
   "metadata": {},
   "outputs": [],
   "source": [
    "ls /Users/waranthornchansawang/Desktop/RASH_INSPECTORx/dataset/new"
   ]
  },
  {
   "cell_type": "code",
   "execution_count": null,
   "metadata": {},
   "outputs": [],
   "source": []
  }
 ],
 "metadata": {
  "kernelspec": {
   "display_name": "Python 3",
   "language": "python",
   "name": "python3"
  },
  "language_info": {
   "codemirror_mode": {
    "name": "ipython",
    "version": 3
   },
   "file_extension": ".py",
   "mimetype": "text/x-python",
   "name": "python",
   "nbconvert_exporter": "python",
   "pygments_lexer": "ipython3",
   "version": "3.7.4"
  }
 },
 "nbformat": 4,
 "nbformat_minor": 4
}
